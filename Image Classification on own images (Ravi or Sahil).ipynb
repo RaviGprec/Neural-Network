{
  "nbformat": 4,
  "nbformat_minor": 0,
  "metadata": {
    "colab": {
      "name": "Ravi_or_Sahil.ipynb",
      "version": "0.3.2",
      "provenance": [],
      "collapsed_sections": [],
      "include_colab_link": true
    },
    "kernelspec": {
      "name": "python3",
      "display_name": "Python 3"
    }
  },
  "cells": [
    {
      "cell_type": "markdown",
      "metadata": {
        "id": "view-in-github",
        "colab_type": "text"
      },
      "source": [
        "<a href=\"https://colab.research.google.com/github/RaviGprec/Neural-Network/blob/master/Image%20Classification%20on%20own%20images%20(Ravi%20or%20Sahil).ipynb\" target=\"_parent\"><img src=\"https://colab.research.google.com/assets/colab-badge.svg\" alt=\"Open In Colab\"/></a>"
      ]
    },
    {
      "cell_type": "code",
      "metadata": {
        "id": "ebzjUXBojuy9",
        "colab_type": "code",
        "colab": {}
      },
      "source": [
        "!unzip  \"data.zip\" -d \"\""
      ],
      "execution_count": 0,
      "outputs": []
    },
    {
      "cell_type": "code",
      "metadata": {
        "id": "7DEtLPeWkGZN",
        "colab_type": "code",
        "colab": {}
      },
      "source": [
        "from keras.preprocessing.image import ImageDataGenerator\n",
        "from keras.models import Sequential\n",
        "from keras.layers import Conv2D, MaxPooling2D\n",
        "from keras.layers import Activation, Dropout, Flatten, Dense\n",
        "from keras import backend as K"
      ],
      "execution_count": 0,
      "outputs": []
    },
    {
      "cell_type": "code",
      "metadata": {
        "id": "JOJRgTPikGVv",
        "colab_type": "code",
        "colab": {}
      },
      "source": [
        "img_width, img_height = 150, 150\n",
        "\n",
        "train_data_dir = 'data/train'\n",
        "validation_data_dir = 'data/validation'\n",
        "nb_train_samples = 40\n",
        "nb_validation_samples = 4\n",
        "epochs = 10\n",
        "batch_size = 4"
      ],
      "execution_count": 0,
      "outputs": []
    },
    {
      "cell_type": "code",
      "metadata": {
        "id": "V7i4v1QzkGSV",
        "colab_type": "code",
        "colab": {}
      },
      "source": [
        "if K.image_data_format() == 'channels_first':\n",
        "    input_shape = (3, img_width, img_height)\n",
        "else:\n",
        "    input_shape = (img_width, img_height, 3)\n",
        "\n",
        "model = Sequential()\n",
        "model.add(Conv2D(32, (3, 3), input_shape=input_shape))\n",
        "model.add(Activation('relu'))\n",
        "model.add(MaxPooling2D(pool_size=(2, 2)))\n",
        "\n",
        "model.add(Conv2D(32, (3, 3)))\n",
        "model.add(Activation('relu'))\n",
        "model.add(MaxPooling2D(pool_size=(2, 2)))\n",
        "\n",
        "model.add(Conv2D(64, (3, 3)))\n",
        "model.add(Activation('relu'))\n",
        "model.add(MaxPooling2D(pool_size=(2, 2)))\n",
        "\n",
        "model.add(Flatten())\n",
        "model.add(Dense(64))\n",
        "model.add(Activation('relu'))\n",
        "model.add(Dropout(0.5))\n",
        "model.add(Dense(1))\n",
        "model.add(Activation('sigmoid'))\n",
        "\n",
        "model.compile(loss='binary_crossentropy',\n",
        "              optimizer='rmsprop',\n",
        "              metrics=['accuracy'])"
      ],
      "execution_count": 0,
      "outputs": []
    },
    {
      "cell_type": "code",
      "metadata": {
        "id": "nJlycXB_kTXS",
        "colab_type": "code",
        "outputId": "5123de59-787d-4c2c-8ea9-2bfc46ee0781",
        "colab": {
          "base_uri": "https://localhost:8080/",
          "height": 54
        }
      },
      "source": [
        "train_datagen = ImageDataGenerator(\n",
        "    rescale=1. / 255,\n",
        "    shear_range=0.2,\n",
        "    zoom_range=0.2,\n",
        "    horizontal_flip=True)\n",
        "\n",
        "# this is the augmentation configuration we will use for testing:\n",
        "# only rescaling\n",
        "test_datagen = ImageDataGenerator(rescale=1. / 255)\n",
        "\n",
        "train_generator = train_datagen.flow_from_directory(\n",
        "    train_data_dir,\n",
        "    target_size=(img_width, img_height),\n",
        "    batch_size=batch_size,\n",
        "    class_mode='binary')\n",
        "\n",
        "validation_generator = test_datagen.flow_from_directory(\n",
        "    validation_data_dir,\n",
        "    target_size=(img_width, img_height),\n",
        "    batch_size=batch_size,\n",
        "    class_mode='binary')"
      ],
      "execution_count": 20,
      "outputs": [
        {
          "output_type": "stream",
          "text": [
            "Found 80 images belonging to 2 classes.\n",
            "Found 9 images belonging to 2 classes.\n"
          ],
          "name": "stdout"
        }
      ]
    },
    {
      "cell_type": "code",
      "metadata": {
        "id": "bAgNV4h34v6r",
        "colab_type": "code",
        "colab": {
          "base_uri": "https://localhost:8080/",
          "height": 90
        },
        "outputId": "7218dc46-a85c-43ad-b520-38e82dccd508"
      },
      "source": [
        "train_generator.classes"
      ],
      "execution_count": 21,
      "outputs": [
        {
          "output_type": "execute_result",
          "data": {
            "text/plain": [
              "array([0, 0, 0, 0, 0, 0, 0, 0, 0, 0, 0, 0, 0, 0, 0, 0, 0, 0, 0, 0, 0, 0,\n",
              "       0, 0, 0, 0, 0, 0, 0, 0, 0, 0, 0, 0, 0, 0, 0, 0, 0, 0, 1, 1, 1, 1,\n",
              "       1, 1, 1, 1, 1, 1, 1, 1, 1, 1, 1, 1, 1, 1, 1, 1, 1, 1, 1, 1, 1, 1,\n",
              "       1, 1, 1, 1, 1, 1, 1, 1, 1, 1, 1, 1, 1, 1], dtype=int32)"
            ]
          },
          "metadata": {
            "tags": []
          },
          "execution_count": 21
        }
      ]
    },
    {
      "cell_type": "code",
      "metadata": {
        "id": "VEohlu7f8MfE",
        "colab_type": "code",
        "colab": {
          "base_uri": "https://localhost:8080/",
          "height": 35
        },
        "outputId": "55d22487-16a3-4444-8ef9-2e456d30b6ae"
      },
      "source": [
        "train_generator.class_indices"
      ],
      "execution_count": 22,
      "outputs": [
        {
          "output_type": "execute_result",
          "data": {
            "text/plain": [
              "{'ravi': 0, 'sahil': 1}"
            ]
          },
          "metadata": {
            "tags": []
          },
          "execution_count": 22
        }
      ]
    },
    {
      "cell_type": "code",
      "metadata": {
        "id": "vocAoyth9iRE",
        "colab_type": "code",
        "colab": {}
      },
      "source": [
        ""
      ],
      "execution_count": 0,
      "outputs": []
    },
    {
      "cell_type": "code",
      "metadata": {
        "id": "0XZeGsI8jFcC",
        "colab_type": "code",
        "outputId": "0738f4ee-7b75-49e6-d83d-c54e57cff2a2",
        "colab": {
          "base_uri": "https://localhost:8080/",
          "height": 381
        }
      },
      "source": [
        "# this is the augmentation configuration we will use for training\n",
        "model.fit_generator(\n",
        "    train_generator,\n",
        "    shuffle =True,\n",
        "    steps_per_epoch=nb_train_samples // batch_size,\n",
        "    epochs=epochs,\n",
        "    validation_data=validation_generator,\n",
        "    validation_steps=nb_validation_samples // batch_size)\n",
        "\n",
        "model.save_weights('first_try.h5')"
      ],
      "execution_count": 24,
      "outputs": [
        {
          "output_type": "stream",
          "text": [
            "Epoch 1/10\n",
            "10/10 [==============================] - 4s 375ms/step - loss: 1.0296 - acc: 0.5500 - val_loss: 0.7147 - val_acc: 0.2500\n",
            "Epoch 2/10\n",
            "10/10 [==============================] - 3s 320ms/step - loss: 0.7225 - acc: 0.5000 - val_loss: 0.6907 - val_acc: 0.2500\n",
            "Epoch 3/10\n",
            "10/10 [==============================] - 3s 323ms/step - loss: 0.6442 - acc: 0.5000 - val_loss: 0.6482 - val_acc: 1.0000\n",
            "Epoch 4/10\n",
            "10/10 [==============================] - 4s 356ms/step - loss: 0.6090 - acc: 0.7000 - val_loss: 2.3234 - val_acc: 0.5000\n",
            "Epoch 5/10\n",
            "10/10 [==============================] - 3s 334ms/step - loss: 0.6916 - acc: 0.7000 - val_loss: 0.7640 - val_acc: 0.5000\n",
            "Epoch 6/10\n",
            "10/10 [==============================] - 3s 327ms/step - loss: 0.4617 - acc: 0.8250 - val_loss: 5.6030e-05 - val_acc: 1.0000\n",
            "Epoch 7/10\n",
            "10/10 [==============================] - 4s 391ms/step - loss: 0.5143 - acc: 0.7500 - val_loss: 0.0691 - val_acc: 1.0000\n",
            "Epoch 8/10\n",
            "10/10 [==============================] - 3s 286ms/step - loss: 0.5552 - acc: 0.7500 - val_loss: 0.6260 - val_acc: 0.7500\n",
            "Epoch 9/10\n",
            "10/10 [==============================] - 3s 277ms/step - loss: 0.6484 - acc: 0.7500 - val_loss: 0.5268 - val_acc: 1.0000\n",
            "Epoch 10/10\n",
            "10/10 [==============================] - 4s 391ms/step - loss: 0.5485 - acc: 0.7500 - val_loss: 0.1832 - val_acc: 0.7500\n"
          ],
          "name": "stdout"
        }
      ]
    },
    {
      "cell_type": "code",
      "metadata": {
        "id": "1XxzLNi9mvCu",
        "colab_type": "code",
        "outputId": "1a763015-be49-4a7c-9637-eefb203ca707",
        "colab": {
          "base_uri": "https://localhost:8080/",
          "height": 54
        }
      },
      "source": [
        "import cv2\n",
        "import numpy as np\n",
        "img = cv2.imread('ravi_49.jpg')\n",
        "img = cv2.resize(img,(150,150))\n",
        "img = np.reshape(img,[1,150,150,3])\n",
        "classes = model.predict_classes(img)\n",
        "if classes[0][0] == 1 :\n",
        "  print(\"Given Photo Belongs to Sahil\")\n",
        "else:\n",
        "  print(\"Given Photo Belongs to Ravi\")\n",
        "  \n",
        "print(classes)"
      ],
      "execution_count": 25,
      "outputs": [
        {
          "output_type": "stream",
          "text": [
            "Given Photo Belongs to Ravi\n",
            "[[0]]\n"
          ],
          "name": "stdout"
        }
      ]
    },
    {
      "cell_type": "code",
      "metadata": {
        "id": "onTyuYs6nSaD",
        "colab_type": "code",
        "outputId": "0859df87-dfe5-4c86-c837-49766c04824e",
        "colab": {
          "base_uri": "https://localhost:8080/",
          "height": 54
        }
      },
      "source": [
        "img = cv2.imread('sahil_43.jpeg')\n",
        "img = cv2.resize(img,(150,150))\n",
        "img = np.reshape(img,[1,150,150,3])\n",
        "classes = model.predict_proba(img)\n",
        "if classes[0][0] == 1 :\n",
        "  print(\"Given Photo Belongs to Sahil\")\n",
        "else:\n",
        "  print(\"Given Photo Belongs to Ravi\")\n",
        "  \n",
        "print(classes)"
      ],
      "execution_count": 26,
      "outputs": [
        {
          "output_type": "stream",
          "text": [
            "Given Photo Belongs to Sahil\n",
            "[[1.]]\n"
          ],
          "name": "stdout"
        }
      ]
    },
    {
      "cell_type": "code",
      "metadata": {
        "id": "2BIwjpz480Z9",
        "colab_type": "code",
        "colab": {
          "base_uri": "https://localhost:8080/",
          "height": 54
        },
        "outputId": "65ac182a-b3e7-4f4e-a11d-11bd8d91be0a"
      },
      "source": [
        "img = cv2.imread('sahil_44.jpeg')\n",
        "img = cv2.resize(img,(150,150))\n",
        "img = np.reshape(img,[1,150,150,3])\n",
        "classes = model.predict(img)\n",
        "\n",
        "if classes[0][0] == 1 :\n",
        "  print(\"Given Photo Belongs to Sahil\")\n",
        "else:\n",
        "  print(\"Given Photo Belongs to Ravi\")\n",
        "  \n",
        "print(classes)"
      ],
      "execution_count": 27,
      "outputs": [
        {
          "output_type": "stream",
          "text": [
            "Given Photo Belongs to Ravi\n",
            "[[0.]]\n"
          ],
          "name": "stdout"
        }
      ]
    },
    {
      "cell_type": "code",
      "metadata": {
        "id": "17Hoxc-Q896k",
        "colab_type": "code",
        "colab": {
          "base_uri": "https://localhost:8080/",
          "height": 54
        },
        "outputId": "c336f504-7aaa-4e88-9198-9027a555fe65"
      },
      "source": [
        "img = cv2.imread('sahil_43.jpeg')\n",
        "img = cv2.resize(img,(150,150))\n",
        "img = np.reshape(img,[1,150,150,3])\n",
        "classes = model.predict(img)\n",
        "\n",
        "if classes[0][0] == 1 :\n",
        "  print(\"Given Photo Belongs to Sahil\")\n",
        "else:\n",
        "  print(\"Given Photo Belongs to Ravi\")\n",
        "  \n",
        "print(classes)"
      ],
      "execution_count": 28,
      "outputs": [
        {
          "output_type": "stream",
          "text": [
            "Given Photo Belongs to Sahil\n",
            "[[1.]]\n"
          ],
          "name": "stdout"
        }
      ]
    },
    {
      "cell_type": "code",
      "metadata": {
        "id": "Od_3Kk8yoAQf",
        "colab_type": "code",
        "outputId": "f08dd55c-3f5c-478d-8be9-3fc341a3a721",
        "colab": {
          "base_uri": "https://localhost:8080/",
          "height": 54
        }
      },
      "source": [
        "img = cv2.imread('ravi_51.jpg')\n",
        "img = cv2.resize(img,(150,150))\n",
        "img = np.reshape(img,[1,150,150,3])\n",
        "classes = model.predict(img)\n",
        "\n",
        "if classes[0][0] == 1 :\n",
        "  print(\"Given Photo Belongs to Sahil\")\n",
        "else:\n",
        "  print(\"Given Photo Belongs to Ravi\")\n",
        "  \n",
        "print(classes)"
      ],
      "execution_count": 29,
      "outputs": [
        {
          "output_type": "stream",
          "text": [
            "Given Photo Belongs to Ravi\n",
            "[[0.]]\n"
          ],
          "name": "stdout"
        }
      ]
    }
  ]
}