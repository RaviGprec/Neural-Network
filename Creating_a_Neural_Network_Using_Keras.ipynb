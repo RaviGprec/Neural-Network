{
  "nbformat": 4,
  "nbformat_minor": 0,
  "metadata": {
    "colab": {
      "name": "Creating a Neural Network Using Keras.ipynb",
      "version": "0.3.2",
      "provenance": [],
      "include_colab_link": true
    },
    "kernelspec": {
      "name": "python3",
      "display_name": "Python 3"
    }
  },
  "cells": [
    {
      "cell_type": "markdown",
      "metadata": {
        "id": "view-in-github",
        "colab_type": "text"
      },
      "source": [
        "<a href=\"https://colab.research.google.com/github/RaviGprec/Neural-Network/blob/master/Creating_a_Neural_Network_Using_Keras.ipynb\" target=\"_parent\"><img src=\"https://colab.research.google.com/assets/colab-badge.svg\" alt=\"Open In Colab\"/></a>"
      ]
    },
    {
      "cell_type": "markdown",
      "metadata": {
        "id": "4Sdp20JtkwQD",
        "colab_type": "text"
      },
      "source": [
        "## Creating a Neural Network Using Keras"
      ]
    },
    {
      "cell_type": "markdown",
      "metadata": {
        "id": "KVyWNaLFlYvZ",
        "colab_type": "text"
      },
      "source": [
        "Problem Stament: \n",
        "\n",
        "*   Given dataset (MNIST) contains various images of Handwritten digits (0 to 9). Our task is to train the Deep Learning Model using Keras and predict the digit for a given test image. This problem comes under image recognition techniques. \n",
        "\n"
      ]
    },
    {
      "cell_type": "code",
      "metadata": {
        "id": "A6bCmZsJJ52s",
        "colab_type": "code",
        "colab": {}
      },
      "source": [
        "import numpy as np\n",
        "from keras.datasets import mnist\n",
        "from keras.models import Sequential\n",
        "from keras.layers import Dense\n",
        "from keras.utils import to_categorical"
      ],
      "execution_count": 0,
      "outputs": []
    },
    {
      "cell_type": "code",
      "metadata": {
        "id": "_Da7mOdQNeTf",
        "colab_type": "code",
        "colab": {}
      },
      "source": [
        "(x_train, y_train), (x_test, y_test) = mnist.load_data()"
      ],
      "execution_count": 0,
      "outputs": []
    },
    {
      "cell_type": "code",
      "metadata": {
        "id": "21uQ6EtpPCCj",
        "colab_type": "code",
        "colab": {
          "base_uri": "https://localhost:8080/",
          "height": 85
        },
        "outputId": "5406a40e-080f-4f45-f2df-c9d716c94013"
      },
      "source": [
        "print(x_train.shape)\n",
        "print(y_train.shape)\n",
        "print(x_test.shape)\n",
        "print(y_test.shape)"
      ],
      "execution_count": 37,
      "outputs": [
        {
          "output_type": "stream",
          "text": [
            "(60000, 28, 28)\n",
            "(60000,)\n",
            "(10000, 28, 28)\n",
            "(10000,)\n"
          ],
          "name": "stdout"
        }
      ]
    },
    {
      "cell_type": "code",
      "metadata": {
        "id": "pKuyOG_sPa_A",
        "colab_type": "code",
        "colab": {}
      },
      "source": [
        "#value of the first image before normalization\n",
        "x_train[:1]"
      ],
      "execution_count": 0,
      "outputs": []
    },
    {
      "cell_type": "markdown",
      "metadata": {
        "id": "FPJ3ZT-yOqVT",
        "colab_type": "text"
      },
      "source": [
        "**Normalization**"
      ]
    },
    {
      "cell_type": "code",
      "metadata": {
        "id": "40xg478pNeLf",
        "colab_type": "code",
        "colab": {}
      },
      "source": [
        "x_train = (x_train/255)- 0.5\n",
        "x_test  = (x_test/255) - 0.5"
      ],
      "execution_count": 0,
      "outputs": []
    },
    {
      "cell_type": "code",
      "metadata": {
        "id": "JBBoZQNrNeB8",
        "colab_type": "code",
        "colab": {}
      },
      "source": [
        "#value of the first image after normalization\n",
        "x_train[0:1]"
      ],
      "execution_count": 0,
      "outputs": []
    },
    {
      "cell_type": "markdown",
      "metadata": {
        "id": "F1VRBTDMQiJn",
        "colab_type": "text"
      },
      "source": [
        "**Flattening the images**\n",
        "\n",
        "\n",
        "*   Since our input image sizes si (60000,28,28), we will convert into 28*28 = 784 features\n",
        "*   we will use reshape (-1,784). If we give '-1', it simply means that it is an unknown dimension and we want numpy to figure it out. And numpy will figure this by looking at the 'length of the array and remaining dimensions' and making sure it satisfies the above mentioned criteria\n",
        "\n"
      ]
    },
    {
      "cell_type": "code",
      "metadata": {
        "id": "njXkqdUUQI7y",
        "colab_type": "code",
        "colab": {
          "base_uri": "https://localhost:8080/",
          "height": 85
        },
        "outputId": "a661c887-b964-495f-fbc9-d24c48f9328e"
      },
      "source": [
        "print(\"size of x_train before flattening : \",x_train.shape)\n",
        "print(\"size of x_test before flattening : \", x_test.shape)\n",
        "x_train = x_train.reshape((-1,784))\n",
        "x_test = x_test.reshape((-1,784))\n",
        "print(\"size of x_train after normalization : \",x_train.shape)\n",
        "print(\"size of x_test after normalization : \", x_test.shape)"
      ],
      "execution_count": 40,
      "outputs": [
        {
          "output_type": "stream",
          "text": [
            "size of x_train before flattening :  (60000, 28, 28)\n",
            "size of x_test before flattening :  (10000, 28, 28)\n",
            "size of x_train after normalization :  (60000, 784)\n",
            "size of x_test after normalization :  (10000, 784)\n"
          ],
          "name": "stdout"
        }
      ]
    },
    {
      "cell_type": "markdown",
      "metadata": {
        "id": "BhbdPVjUSLM1",
        "colab_type": "text"
      },
      "source": [
        "**Model Building**"
      ]
    },
    {
      "cell_type": "code",
      "metadata": {
        "id": "B9Uh-avXQItr",
        "colab_type": "code",
        "colab": {}
      },
      "source": [
        "model = Sequential([\n",
        "    Dense(64,activation = 'relu',input_shape=(784,)),\n",
        "    Dense(64,activation = 'relu'),\n",
        "    Dense(10,activation = 'softmax'),\n",
        "])"
      ],
      "execution_count": 0,
      "outputs": []
    },
    {
      "cell_type": "markdown",
      "metadata": {
        "id": "YDjyYbQTT4Pm",
        "colab_type": "text"
      },
      "source": [
        "**Compiling the Model**"
      ]
    },
    {
      "cell_type": "code",
      "metadata": {
        "id": "AhS994ONT763",
        "colab_type": "code",
        "colab": {}
      },
      "source": [
        "model.compile(\n",
        "optimizer = 'adam',\n",
        "loss = 'categorical_crossentropy',\n",
        "metrics = ['accuracy']\n",
        ")"
      ],
      "execution_count": 0,
      "outputs": []
    },
    {
      "cell_type": "markdown",
      "metadata": {
        "id": "pGya3WT0Uifn",
        "colab_type": "text"
      },
      "source": [
        "**Training the model**"
      ]
    },
    {
      "cell_type": "code",
      "metadata": {
        "id": "zjCqc7oGUmrr",
        "colab_type": "code",
        "colab": {
          "base_uri": "https://localhost:8080/",
          "height": 374
        },
        "outputId": "fe01ad4c-bbe9-4902-89ad-e90d1917b98a"
      },
      "source": [
        "model.fit(\n",
        "x_train,\n",
        "to_categorical(y_train),\n",
        "epochs = 10,\n",
        "batch_size = 32)"
      ],
      "execution_count": 26,
      "outputs": [
        {
          "output_type": "stream",
          "text": [
            "Epoch 1/10\n",
            "60000/60000 [==============================] - 3s 57us/step - loss: 0.0934 - acc: 0.9706\n",
            "Epoch 2/10\n",
            "60000/60000 [==============================] - 3s 57us/step - loss: 0.0873 - acc: 0.9723\n",
            "Epoch 3/10\n",
            "60000/60000 [==============================] - 3s 58us/step - loss: 0.0781 - acc: 0.9756\n",
            "Epoch 4/10\n",
            "60000/60000 [==============================] - 3s 57us/step - loss: 0.0741 - acc: 0.9768\n",
            "Epoch 5/10\n",
            "60000/60000 [==============================] - 3s 57us/step - loss: 0.0670 - acc: 0.9791\n",
            "Epoch 6/10\n",
            "60000/60000 [==============================] - 3s 58us/step - loss: 0.0626 - acc: 0.9795\n",
            "Epoch 7/10\n",
            "60000/60000 [==============================] - 3s 57us/step - loss: 0.0609 - acc: 0.9801\n",
            "Epoch 8/10\n",
            "60000/60000 [==============================] - 3s 56us/step - loss: 0.0542 - acc: 0.9832\n",
            "Epoch 9/10\n",
            "60000/60000 [==============================] - 3s 57us/step - loss: 0.0538 - acc: 0.9827\n",
            "Epoch 10/10\n",
            "60000/60000 [==============================] - 3s 57us/step - loss: 0.0500 - acc: 0.9836\n"
          ],
          "name": "stdout"
        },
        {
          "output_type": "execute_result",
          "data": {
            "text/plain": [
              "<keras.callbacks.History at 0x7f14df82b198>"
            ]
          },
          "metadata": {
            "tags": []
          },
          "execution_count": 26
        }
      ]
    },
    {
      "cell_type": "markdown",
      "metadata": {
        "id": "Ns587nzNVSBx",
        "colab_type": "text"
      },
      "source": [
        "Great!!! we have achieved **accuracy of 98%**. But we are not sure whether the model is overfitting or not.\n",
        "To check that, we will test it against our testing images. "
      ]
    },
    {
      "cell_type": "code",
      "metadata": {
        "id": "vvZy_fTBV6sP",
        "colab_type": "code",
        "colab": {
          "base_uri": "https://localhost:8080/",
          "height": 51
        },
        "outputId": "7da7a693-3da3-4979-b55f-f651ea188351"
      },
      "source": [
        "model.evaluate(\n",
        "    x_test,\n",
        "    to_categorical(y_test)\n",
        ")"
      ],
      "execution_count": 27,
      "outputs": [
        {
          "output_type": "stream",
          "text": [
            "10000/10000 [==============================] - 0s 22us/step\n"
          ],
          "name": "stdout"
        },
        {
          "output_type": "execute_result",
          "data": {
            "text/plain": [
              "[0.11268792546861806, 0.9701]"
            ]
          },
          "metadata": {
            "tags": []
          },
          "execution_count": 27
        }
      ]
    },
    {
      "cell_type": "markdown",
      "metadata": {
        "id": "969mKGHRWdWv",
        "colab_type": "text"
      },
      "source": [
        "Now we see, the output [0.11268792546861806,0.9701]. **It means loss/error = 0.1 and accuracy = 0.97 (i.e. 97%)**"
      ]
    },
    {
      "cell_type": "code",
      "metadata": {
        "id": "gBM7yVm8XN1e",
        "colab_type": "code",
        "colab": {
          "base_uri": "https://localhost:8080/",
          "height": 68
        },
        "outputId": "a18598f5-5552-47a3-f595-5238ef66aa4f"
      },
      "source": [
        "pred = model.predict(x_test[:1])\n",
        "pred"
      ],
      "execution_count": 42,
      "outputs": [
        {
          "output_type": "execute_result",
          "data": {
            "text/plain": [
              "array([[2.7764002e-09, 6.9214939e-10, 2.0638439e-05, 1.7191535e-03,\n",
              "        5.2852176e-17, 4.0828504e-11, 6.8726575e-19, 9.9825972e-01,\n",
              "        3.8918762e-07, 2.3064675e-07]], dtype=float32)"
            ]
          },
          "metadata": {
            "tags": []
          },
          "execution_count": 42
        }
      ]
    },
    {
      "cell_type": "markdown",
      "metadata": {
        "id": "EPWxKjHmqgDu",
        "colab_type": "text"
      },
      "source": [
        "Output is an array of 10 probabilities (one for each digit). We have to consider the one which has highest probability. To automatically pick the top probability we can use np.argmax() function."
      ]
    },
    {
      "cell_type": "code",
      "metadata": {
        "id": "DhapHKFArEY1",
        "colab_type": "code",
        "colab": {
          "base_uri": "https://localhost:8080/",
          "height": 51
        },
        "outputId": "956f883f-504f-4962-b64c-d212e0ad9953"
      },
      "source": [
        "print(\"The predicted digit by the model is : \", np.argmax(pred, axis = 1))\n",
        "print(\"The actual digit is : \", y_test[:1])"
      ],
      "execution_count": 45,
      "outputs": [
        {
          "output_type": "stream",
          "text": [
            "The predicted digit by the model is :  [7]\n",
            "The actual digit is :  [7]\n"
          ],
          "name": "stdout"
        }
      ]
    },
    {
      "cell_type": "markdown",
      "metadata": {
        "id": "XBVwfD3esPkm",
        "colab_type": "text"
      },
      "source": [
        "let's try testing for another digit"
      ]
    },
    {
      "cell_type": "code",
      "metadata": {
        "id": "CR-FidrWsUgl",
        "colab_type": "code",
        "colab": {
          "base_uri": "https://localhost:8080/",
          "height": 51
        },
        "outputId": "8cd3a057-66af-4e0d-a1ab-307a2b2dc5ab"
      },
      "source": [
        "pred = model.predict(x_test[1:2])\n",
        "print(\"The predicted digit by the model is : \", np.argmax(pred, axis = 1))\n",
        "print(\"The actual digit is : \", y_test[1:2])"
      ],
      "execution_count": 53,
      "outputs": [
        {
          "output_type": "stream",
          "text": [
            "The predicted digit by the model is :  [2]\n",
            "The actual digit is :  [2]\n"
          ],
          "name": "stdout"
        }
      ]
    },
    {
      "cell_type": "markdown",
      "metadata": {
        "id": "URP3SGX4tbl_",
        "colab_type": "text"
      },
      "source": [
        "We can do a lot more like **adjusting the learning rate**, **adding more layers onto the network**, **using  different activation function like \"sigmoid\"**, adding **Dropout** to avoid overfitting"
      ]
    }
  ]
}