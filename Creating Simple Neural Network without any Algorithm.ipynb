{
  "nbformat": 4,
  "nbformat_minor": 0,
  "metadata": {
    "colab": {
      "name": "Untitled25.ipynb",
      "version": "0.3.2",
      "provenance": [],
      "include_colab_link": true
    },
    "kernelspec": {
      "name": "python3",
      "display_name": "Python 3"
    }
  },
  "cells": [
    {
      "cell_type": "markdown",
      "metadata": {
        "id": "view-in-github",
        "colab_type": "text"
      },
      "source": [
        "<a href=\"https://colab.research.google.com/github/RaviGprec/Neural-Network/blob/master/Creating%20Simple%20Neural%20Network%20without%20any%20Algorithm.ipynb\" target=\"_parent\"><img src=\"https://colab.research.google.com/assets/colab-badge.svg\" alt=\"Open In Colab\"/></a>"
      ]
    },
    {
      "cell_type": "markdown",
      "metadata": {
        "id": "xQ--Oxlg9xHL",
        "colab_type": "text"
      },
      "source": [
        "# Creating a Simple Neural NetWork Without Using Any External Package/Algorithms"
      ]
    },
    {
      "cell_type": "markdown",
      "metadata": {
        "id": "T2nxZuB1-HuE",
        "colab_type": "text"
      },
      "source": [
        "Problem Statement:\n",
        "\n",
        "Suppose we have some information about obesity, smoking habits, and exercise habits of five people. We also know whether these people are having cancer or not. Let's create a simple dataset of 5 rows one for each person."
      ]
    },
    {
      "cell_type": "code",
      "metadata": {
        "id": "ld1bsBZVzVI8",
        "colab_type": "code",
        "colab": {
          "base_uri": "https://localhost:8080/",
          "height": 204
        },
        "outputId": "bdec1195-3fe1-4383-d972-b41412dd1a2a"
      },
      "source": [
        "import numpy as np\n",
        "import matplotlib.pyplot as plt\n",
        "import pandas as pd\n",
        "#initializing features\n",
        "X = np.array([[0,1,0],[0,0,1],[1,0,0],[1,1,0],[1,1,1]])\n",
        "#Target variable\n",
        "Y = np.array([[1,0,0,1,1]])\n",
        "Y = Y.reshape(5,1)\n",
        "\n",
        "df = pd.DataFrame(np.array([[0,1,0,1],[0,0,1,0],[1,0,0,0],[1,1,0,1],[1,1,1,1]]),columns=['smoke','obesity','excercise','cancer'])\n",
        "df"
      ],
      "execution_count": 38,
      "outputs": [
        {
          "output_type": "execute_result",
          "data": {
            "text/html": [
              "<div>\n",
              "<style scoped>\n",
              "    .dataframe tbody tr th:only-of-type {\n",
              "        vertical-align: middle;\n",
              "    }\n",
              "\n",
              "    .dataframe tbody tr th {\n",
              "        vertical-align: top;\n",
              "    }\n",
              "\n",
              "    .dataframe thead th {\n",
              "        text-align: right;\n",
              "    }\n",
              "</style>\n",
              "<table border=\"1\" class=\"dataframe\">\n",
              "  <thead>\n",
              "    <tr style=\"text-align: right;\">\n",
              "      <th></th>\n",
              "      <th>smoke</th>\n",
              "      <th>obesity</th>\n",
              "      <th>excercise</th>\n",
              "      <th>cancer</th>\n",
              "    </tr>\n",
              "  </thead>\n",
              "  <tbody>\n",
              "    <tr>\n",
              "      <th>0</th>\n",
              "      <td>0</td>\n",
              "      <td>1</td>\n",
              "      <td>0</td>\n",
              "      <td>1</td>\n",
              "    </tr>\n",
              "    <tr>\n",
              "      <th>1</th>\n",
              "      <td>0</td>\n",
              "      <td>0</td>\n",
              "      <td>1</td>\n",
              "      <td>0</td>\n",
              "    </tr>\n",
              "    <tr>\n",
              "      <th>2</th>\n",
              "      <td>1</td>\n",
              "      <td>0</td>\n",
              "      <td>0</td>\n",
              "      <td>0</td>\n",
              "    </tr>\n",
              "    <tr>\n",
              "      <th>3</th>\n",
              "      <td>1</td>\n",
              "      <td>1</td>\n",
              "      <td>0</td>\n",
              "      <td>1</td>\n",
              "    </tr>\n",
              "    <tr>\n",
              "      <th>4</th>\n",
              "      <td>1</td>\n",
              "      <td>1</td>\n",
              "      <td>1</td>\n",
              "      <td>1</td>\n",
              "    </tr>\n",
              "  </tbody>\n",
              "</table>\n",
              "</div>"
            ],
            "text/plain": [
              "   smoke  obesity  excercise  cancer\n",
              "0      0        1          0       1\n",
              "1      0        0          1       0\n",
              "2      1        0          0       0\n",
              "3      1        1          0       1\n",
              "4      1        1          1       1"
            ]
          },
          "metadata": {
            "tags": []
          },
          "execution_count": 38
        }
      ]
    },
    {
      "cell_type": "code",
      "metadata": {
        "id": "1jlPdC7KMD3-",
        "colab_type": "code",
        "colab": {
          "base_uri": "https://localhost:8080/",
          "height": 726
        },
        "outputId": "15a25e24-b9d0-48c9-ec46-35a81aa2fc6e"
      },
      "source": [
        "import cv2\n",
        "import numpy as np\n",
        "from matplotlib import pyplot as plt\n",
        "\n",
        "img = cv2.imread(\"NN example.PNG\")\n",
        "img_cvt=cv2.cvtColor(img, cv2.COLOR_BGR2RGB)\n",
        "plt.figure(figsize=(15,20))\n",
        "plt.imshow(img_cvt)\n",
        "plt.show()"
      ],
      "execution_count": 50,
      "outputs": [
        {
          "output_type": "display_data",
          "data": {
            "image/png": "[encoded data removed]",
            "text/plain": [
              "<Figure size 1080x1440 with 1 Axes>"
            ]
          },
          "metadata": {
            "tags": []
          }
        }
      ]
    },
    {
      "cell_type": "markdown",
      "metadata": {
        "id": "HYrvvlXaCJ7-",
        "colab_type": "text"
      },
      "source": [
        "## Creating Weights and Bias values randomly and Learning Rate with 0.05"
      ]
    },
    {
      "cell_type": "code",
      "metadata": {
        "id": "rgkR-cOC_QCW",
        "colab_type": "code",
        "colab": {}
      },
      "source": [
        "#Weights and bias\n",
        "np.random.seed(42) # this is for getting the same values for random function\n",
        "weights = np.random.rand(3,1)\n",
        "bias = np.random.rand(1)\n",
        "lr = 0.05 # learning rate"
      ],
      "execution_count": 0,
      "outputs": []
    },
    {
      "cell_type": "markdown",
      "metadata": {
        "id": "me2rNxSgCmGq",
        "colab_type": "text"
      },
      "source": [
        "## Defining Sigmoid Activation and it's derivative functions"
      ]
    },
    {
      "cell_type": "code",
      "metadata": {
        "id": "F0phpWcj3Uym",
        "colab_type": "code",
        "colab": {}
      },
      "source": [
        "#Sigmode activation function and its derivative\n",
        "def sigmoid(z):\n",
        "  return 1/(1+np.exp(-z))\n",
        "\n",
        "def derivative_sigmoid(z):\n",
        "  return sigmode(z)*(1-sigmode(z))"
      ],
      "execution_count": 0,
      "outputs": []
    },
    {
      "cell_type": "markdown",
      "metadata": {
        "id": "jy-aKYe5C2Cb",
        "colab_type": "text"
      },
      "source": [
        "## Feed Forward Propagation and Backward Propagation "
      ]
    },
    {
      "cell_type": "code",
      "metadata": {
        "id": "LiUDXhbA42OC",
        "colab_type": "code",
        "colab": {}
      },
      "source": [
        "for epoch in range(10000):\n",
        "    inputs = X\n",
        "\n",
        "    # feedforward step1\n",
        "    XW = np.dot(X, weights) + bias\n",
        "\n",
        "    #feedforward step2\n",
        "    z = sigmoid(XW)\n",
        "\n",
        "\n",
        "    # backpropagation step 1\n",
        "    error = z - Y\n",
        "\n",
        "    print(error.sum())\n",
        "\n",
        "    # backpropagation step 2\n",
        "    dcost_dpred = error\n",
        "    dpred_dz = derivative_sigmoid(XW)\n",
        "\n",
        "    z_delta = dcost_dpred * dpred_dz\n",
        "\n",
        "    inputs = X.T\n",
        "    weights -= lr * np.dot(inputs, z_delta) # w_new = w_old - learningRate(X_transpose.W)\n",
        "\n",
        "    for num in z_delta:\n",
        "        bias -= lr * num # bias_new = bias_old - learningRate(change in the activation function)\n",
        "\n",
        "        \n",
        "#by end of above loop we will get adjusted weights and bias values"
      ],
      "execution_count": 0,
      "outputs": []
    },
    {
      "cell_type": "markdown",
      "metadata": {
        "id": "0NhUwqfKDKNX",
        "colab_type": "text"
      },
      "source": [
        "Now we have trained our Neural Network and we have final Weights, Bias values"
      ]
    },
    {
      "cell_type": "markdown",
      "metadata": {
        "id": "sVdKq1XpDcrH",
        "colab_type": "text"
      },
      "source": [
        "## Let's test our model\n",
        "let's check if a person will have cancer or not when he only smokes and not obese and does not do execercise"
      ]
    },
    {
      "cell_type": "code",
      "metadata": {
        "id": "Kgl2YWgm6v5L",
        "colab_type": "code",
        "colab": {
          "base_uri": "https://localhost:8080/",
          "height": 34
        },
        "outputId": "a8035b64-c8c7-46c9-aea5-58b392ce38bf"
      },
      "source": [
        "test_input = np.array([1,0,0])\n",
        "result = sigmoid(np.dot(test_input, weights) + bias)\n",
        "print(result)"
      ],
      "execution_count": 23,
      "outputs": [
        {
          "output_type": "stream",
          "text": [
            "[0.04524916]\n"
          ],
          "name": "stdout"
        }
      ]
    },
    {
      "cell_type": "markdown",
      "metadata": {
        "id": "yaI08XS-9Sf_",
        "colab_type": "text"
      },
      "source": [
        " we can see that the person is likely not diabetic since the value is much closer to 0 than 1.\n",
        "**It means the person will not have Cancer**"
      ]
    },
    {
      "cell_type": "code",
      "metadata": {
        "id": "vnjA6tulFC8c",
        "colab_type": "code",
        "colab": {
          "base_uri": "https://localhost:8080/",
          "height": 34
        },
        "outputId": "9bebe2b2-bebf-447f-9c34-9be4c3cba0c3"
      },
      "source": [
        "#Let's try different test_input\n",
        "\n",
        "#Smokes, obese, and doesn't do excercise\n",
        "test_input = np.array([1,1,0])\n",
        "result = sigmoid(np.dot(test_input, weights) + bias)\n",
        "print(result)"
      ],
      "execution_count": 40,
      "outputs": [
        {
          "output_type": "stream",
          "text": [
            "[0.87257414]\n"
          ],
          "name": "stdout"
        }
      ]
    },
    {
      "cell_type": "markdown",
      "metadata": {
        "id": "AWAs7Yz0FpPk",
        "colab_type": "text"
      },
      "source": [
        "we can see that the person is likely not diabetic since the value is much closer to 0 than 1. **It means the person will have Cancer**"
      ]
    }
  ]
}